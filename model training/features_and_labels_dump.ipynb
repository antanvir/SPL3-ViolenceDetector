{
  "nbformat": 4,
  "nbformat_minor": 0,
  "metadata": {
    "colab": {
      "name": "features_and_labels_dump.ipynb",
      "private_outputs": true,
      "provenance": [],
      "collapsed_sections": []
    },
    "kernelspec": {
      "name": "python3",
      "display_name": "Python 3"
    }
  },
  "cells": [
    {
      "cell_type": "code",
      "metadata": {
        "id": "i7hBzHB5DUY5"
      },
      "source": [
        "from google.colab import drive\r\n",
        "drive.mount('/content/drive')\r\n",
        "# drive.mount('/content/drive', force_remount=True)"
      ],
      "execution_count": null,
      "outputs": []
    },
    {
      "cell_type": "code",
      "metadata": {
        "id": "eiH-jcmED5Wa"
      },
      "source": [
        "import os\r\n",
        "import cv2\r\n",
        "\r\n",
        "# def sayHi(name):\r\n",
        "#     return \"Hello \" + name\r\n",
        "# print(sayHi(\"Tanvir\"))\r\n",
        "\r\n",
        "\r\n",
        "# Fight label 1, noFight label 0\r\n",
        "frame_paths_and_type = [ ( \"/content/drive/My Drive/_SPL3/Dataframes/validationDataset/movie-fight/fights/\", 1 ),\r\n",
        "               ( \"/content/drive/My Drive/_SPL3/Dataframes/validationDataset/movie-fight/noFights/\", 0 )]\r\n",
        "\r\n",
        "dataset=[]\r\n",
        "\r\n",
        "# Taking 10 neighbour video frames as sequence\r\n",
        "def load_images_from_folder(folder, classLabel):  \r\n",
        "    image_sequence = []\r\n",
        "    counter = 1 \r\n",
        "    for filename in os.listdir(folder):\r\n",
        "        img = cv2.imread(os.path.join(folder, filename))\r\n",
        "        resized_img = cv2.resize(img, (100,100))\r\n",
        "        if img is not None :\r\n",
        "            image_sequence.append(resized_img)\r\n",
        "        if (counter % 10) == 0:\r\n",
        "            dataset.append([image_sequence, classLabel])\r\n",
        "            image_sequence = []\r\n",
        "        if (counter % 30) == 0:\r\n",
        "            print(\"x \", end=\" \")\r\n",
        "        if (counter % 300) == 0:\r\n",
        "            print()\r\n",
        "        counter = counter + 1\r\n",
        "    # if len(image_sequence) != 0:\r\n",
        "    #     dataset.append([image_sequence, classLabel])\r\n",
        "    #     image_sequence = []\r\n",
        "\r\n",
        "\r\n",
        "for folder_info in frame_paths_and_type:\r\n",
        "    load_images_from_folder(folder_info[0], folder_info[1])\r\n",
        "    print(\"=== Folder Done ===\")\r\n",
        "\r\n",
        "print(len(dataset))"
      ],
      "execution_count": null,
      "outputs": []
    },
    {
      "cell_type": "code",
      "metadata": {
        "id": "qylSeZaUszcc"
      },
      "source": [
        "import random\r\n",
        "import pickle\r\n",
        "import numpy as np\r\n",
        "\r\n",
        "random.shuffle(dataset)\r\n",
        "for samples in dataset[0:15]:\r\n",
        "    print(samples[1])\r\n",
        "\r\n",
        "x = []\r\n",
        "y = []\r\n",
        "for image, label in dataset:\r\n",
        "    x.append(image)\r\n",
        "    y.append(label)\r\n",
        "\r\n",
        "x = np.array(x).reshape(-1, 10, 100, 100, 3)\r\n",
        "print(x.shape)\r\n",
        "\r\n",
        "# saving dataset & corresponding class label with pickle\r\n",
        "pickle_write_x = open(\"/content/drive/My Drive/_SPL3/model/x_movie_validation.pickle\", \"wb\")\r\n",
        "pickle.dump(x, pickle_write_x)\r\n",
        "pickle_write_x.close()\r\n",
        "\r\n",
        "\r\n",
        "pickle_write_y = open(\"/content/drive/My Drive/_SPL3/model/y_movie_validation.pickle\", \"wb\")\r\n",
        "pickle.dump(y, pickle_write_y)\r\n",
        "pickle_write_y.close()"
      ],
      "execution_count": null,
      "outputs": []
    }
  ]
}